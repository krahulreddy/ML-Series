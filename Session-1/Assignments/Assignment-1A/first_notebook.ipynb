{
 "cells": [
  {
   "cell_type": "markdown",
   "metadata": {
    "collapsed": true
   },
   "source": [
    "# This is a markdown cell\n",
    "\n",
    "You can format text here in markdown.\n",
    "\n",
    "## You can have subheadings\n",
    "\n",
    "- You can have bullet points\n",
    "1. numbered lists\n",
    "\n",
    "$and \\  more$\n",
    "\n",
    "There are lots of markdown resources on the web you can use to learn markdown. <br>\n",
    "Here's a starting point: https://guides.github.com/features/mastering-markdown/ <br>\n",
    "More on Anaconda and Jupyter notebooks, check out this Udacity link: https://classroom.udacity.com/courses/ud1111"
   ]
  },
  {
   "cell_type": "code",
   "execution_count": 4,
   "metadata": {},
   "outputs": [
    {
     "name": "stdout",
     "output_type": "stream",
     "text": [
      "Hello World\n"
     ]
    }
   ],
   "source": [
    "#This is a code cell You can run code here. Try running the code cells\n",
    "print('Hello World')\n",
    "a = 2+3"
   ]
  },
  {
   "cell_type": "code",
   "execution_count": 5,
   "metadata": {},
   "outputs": [
    {
     "name": "stdout",
     "output_type": "stream",
     "text": [
      "5\n",
      "ha\n"
     ]
    }
   ],
   "source": [
    "print(a)\n",
    "print('ha')"
   ]
  },
  {
   "cell_type": "code",
   "execution_count": null,
   "metadata": {},
   "outputs": [],
   "source": []
  }
 ],
 "metadata": {
  "kernelspec": {
   "display_name": "Python 2",
   "language": "python",
   "name": "python2"
  },
  "language_info": {
   "codemirror_mode": {
    "name": "ipython",
    "version": 2
   },
   "file_extension": ".py",
   "mimetype": "text/x-python",
   "name": "python",
   "nbconvert_exporter": "python",
   "pygments_lexer": "ipython2",
   "version": "2.7.12"
  }
 },
 "nbformat": 4,
 "nbformat_minor": 2
}
